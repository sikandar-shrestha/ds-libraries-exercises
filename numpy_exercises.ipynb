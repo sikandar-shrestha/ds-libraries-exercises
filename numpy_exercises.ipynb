{
 "cells": [
  {
   "cell_type": "markdown",
   "id": "80b80d7a",
   "metadata": {},
   "source": [
    "## Exercises\n",
    "\n",
    "Set up a new local and remote called ds-libraries-exercises for this module.\n",
    "\n",
    "Let's review the steps to get setup.\n",
    "\n",
    "Create a new repository named ds-libraries-exercises on GitHub.com\n",
    "\n",
    "Copy the SSH link for this repository\n",
    "\n",
    "In the terminal, navigate to ~/codeup-data-science\n",
    "\n",
    "Clone your remote repository to your local using: git clone + the link you copied\n",
    "\n",
    "Create a .gitignore\n",
    "\n",
    "Create a README.md file that outlines the purpose of this repository\n",
    "\n",
    "Add, commit, and push these two files.\n",
    "\n",
    "Go to GitHub.com and very that the .gitignore and README.md are there\n",
    "\n",
    "In your new repo, create a file named numpy_exercises.py or numpy_exercises.ipynb for this exercise.\n",
    "\n",
    "Use the following code for the questions below:\n",
    "\n",
    "\n",
    "a = np.array([4, 10, 12, 23, -2, -1, 0, 0, 0, -6, 3, -7])\n",
    "\n",
    "\n",
    "\n",
    "\n",
    "### Awesome Bonus \n",
    "For much more practice with numpy, go to https://github.com/rougier/numpy-100 and clone the repo down to your laptop.\n",
    "\n",
    "To clone a repository:\n",
    "\n",
    "Copy the SSH address of the repository\n",
    "\n",
    "In your terminal, run cd ~/codeup-data-science (goes to your codeup-data-science folder)\n",
    "\n",
    "Run git clone git@github.com:rougier/numpy-100.git (clones down Rougeir's files)\n",
    "\n",
    "Run cd numpy-100 (move into the numpy folder)\n",
    "\n",
    "Run git remote remove origin (so you won't accidentally try to push your work to Rougier's repo)\n",
    "\n",
    "Congratulations! You have cloned Rougier's 100 numpy exercises to your computer. Now you need to make a new, blank, repository on GitHub.\n",
    "\n",
    "Go to https://github.com/new to make a new repo. Name it numpy-100.\n",
    "\n",
    "DO NOT check any check boxes. We need a blank, empty repo.\n",
    "\n",
    "Finally, follow the directions to \"push an existing repository from the command line\" so that you can push up your changes to your own account.\n",
    "\n",
    "Now do work, add it, commit it, and push it!"
   ]
  },
  {
   "cell_type": "code",
   "execution_count": 1,
   "id": "cb99f67e",
   "metadata": {},
   "outputs": [],
   "source": [
    "import numpy as np #industry standard"
   ]
  },
  {
   "cell_type": "markdown",
   "id": "f0a21840",
   "metadata": {},
   "source": [
    "## Use the following code for the questions below:\n",
    "\n",
    "\n",
    "a = np.array([4, 10, 12, 23, -2, -1, 0, 0, 0, -6, 3, -7])"
   ]
  },
  {
   "cell_type": "code",
   "execution_count": 2,
   "id": "11a2b741",
   "metadata": {},
   "outputs": [
    {
     "data": {
      "text/plain": [
       "array([ 4, 10, 12, 23, -2, -1,  0,  0,  0, -6,  3, -7])"
      ]
     },
     "execution_count": 2,
     "metadata": {},
     "output_type": "execute_result"
    }
   ],
   "source": [
    "a=np.array([4, 10, 12, 23, -2, -1, 0, 0, 0, -6, 3, -7])\n",
    "a"
   ]
  },
  {
   "cell_type": "markdown",
   "id": "dc5fd170",
   "metadata": {},
   "source": [
    "## Q1) How many negative numbers are there?\n"
   ]
  },
  {
   "cell_type": "code",
   "execution_count": 3,
   "id": "b07ce6b0",
   "metadata": {},
   "outputs": [
    {
     "data": {
      "text/plain": [
       "array([-2, -1, -6, -7])"
      ]
     },
     "execution_count": 3,
     "metadata": {},
     "output_type": "execute_result"
    }
   ],
   "source": [
    "# 1st method:-\n",
    "a[a<0]"
   ]
  },
  {
   "cell_type": "code",
   "execution_count": 4,
   "id": "f4e0fc89",
   "metadata": {},
   "outputs": [
    {
     "data": {
      "text/plain": [
       "4"
      ]
     },
     "execution_count": 4,
     "metadata": {},
     "output_type": "execute_result"
    }
   ],
   "source": [
    "np.sum(a<0)"
   ]
  },
  {
   "cell_type": "code",
   "execution_count": 5,
   "id": "c931fdfa",
   "metadata": {},
   "outputs": [
    {
     "data": {
      "text/plain": [
       "array([False, False, False, False,  True,  True, False, False, False,\n",
       "        True, False,  True])"
      ]
     },
     "execution_count": 5,
     "metadata": {},
     "output_type": "execute_result"
    }
   ],
   "source": [
    "# 2nd method (mask boolean method):-\n",
    "mask=a<0\n",
    "mask"
   ]
  },
  {
   "cell_type": "code",
   "execution_count": 6,
   "id": "95b1c98b",
   "metadata": {},
   "outputs": [
    {
     "data": {
      "text/plain": [
       "array([-2, -1, -6, -7])"
      ]
     },
     "execution_count": 6,
     "metadata": {},
     "output_type": "execute_result"
    }
   ],
   "source": [
    "new_array=a[mask]\n",
    "new_array"
   ]
  },
  {
   "cell_type": "code",
   "execution_count": 7,
   "id": "e1e808a2",
   "metadata": {},
   "outputs": [
    {
     "data": {
      "text/plain": [
       "4"
      ]
     },
     "execution_count": 7,
     "metadata": {},
     "output_type": "execute_result"
    }
   ],
   "source": [
    "len(new_array)"
   ]
  },
  {
   "cell_type": "code",
   "execution_count": 8,
   "id": "ac7e2a31",
   "metadata": {},
   "outputs": [
    {
     "data": {
      "text/plain": [
       "4"
      ]
     },
     "execution_count": 8,
     "metadata": {},
     "output_type": "execute_result"
    }
   ],
   "source": [
    "#3rd method:\n",
    "\n",
    "(a<0).sum()"
   ]
  },
  {
   "cell_type": "markdown",
   "id": "ea6bd383",
   "metadata": {},
   "source": [
    "## Q2) How many positive numbers are there?\n"
   ]
  },
  {
   "cell_type": "code",
   "execution_count": 9,
   "id": "1bc11f7c",
   "metadata": {},
   "outputs": [
    {
     "data": {
      "text/plain": [
       "array([ 4, 10, 12, 23,  3])"
      ]
     },
     "execution_count": 9,
     "metadata": {},
     "output_type": "execute_result"
    }
   ],
   "source": [
    "#1st method:-\n",
    "a[a>0]"
   ]
  },
  {
   "cell_type": "code",
   "execution_count": 10,
   "id": "2c9f7468",
   "metadata": {},
   "outputs": [
    {
     "data": {
      "text/plain": [
       "5"
      ]
     },
     "execution_count": 10,
     "metadata": {},
     "output_type": "execute_result"
    }
   ],
   "source": [
    "len(a[a>0])"
   ]
  },
  {
   "cell_type": "code",
   "execution_count": 11,
   "id": "4d948c7a",
   "metadata": {},
   "outputs": [
    {
     "data": {
      "text/plain": [
       "5"
      ]
     },
     "execution_count": 11,
     "metadata": {},
     "output_type": "execute_result"
    }
   ],
   "source": [
    "#2nd method:-\n",
    "np.sum(a>0)"
   ]
  },
  {
   "cell_type": "code",
   "execution_count": 12,
   "id": "9a4efeef",
   "metadata": {},
   "outputs": [
    {
     "data": {
      "text/plain": [
       "5"
      ]
     },
     "execution_count": 12,
     "metadata": {},
     "output_type": "execute_result"
    }
   ],
   "source": [
    "#3rd method:-\n",
    "(a>0).sum()"
   ]
  },
  {
   "cell_type": "markdown",
   "id": "5328f9db",
   "metadata": {},
   "source": [
    "## Q3 How many even positive numbers are there?"
   ]
  },
  {
   "cell_type": "code",
   "execution_count": 13,
   "id": "d285984e",
   "metadata": {
    "scrolled": true
   },
   "outputs": [
    {
     "data": {
      "text/plain": [
       "3"
      ]
     },
     "execution_count": 13,
     "metadata": {},
     "output_type": "execute_result"
    }
   ],
   "source": [
    "# 1st method:-\n",
    "np.sum((a>0) & (a%2==0))"
   ]
  },
  {
   "cell_type": "code",
   "execution_count": 14,
   "id": "27d31e09",
   "metadata": {},
   "outputs": [
    {
     "data": {
      "text/plain": [
       "5"
      ]
     },
     "execution_count": 14,
     "metadata": {},
     "output_type": "execute_result"
    }
   ],
   "source": [
    "# 2nd method:-\n",
    "len(a[a>0])"
   ]
  },
  {
   "cell_type": "code",
   "execution_count": 15,
   "id": "7b863cc2",
   "metadata": {},
   "outputs": [
    {
     "data": {
      "text/plain": [
       "5"
      ]
     },
     "execution_count": 15,
     "metadata": {},
     "output_type": "execute_result"
    }
   ],
   "source": [
    "#3rd method:-\n",
    "(a>0).sum()"
   ]
  },
  {
   "cell_type": "markdown",
   "id": "8de13dc6",
   "metadata": {},
   "source": [
    "## Q4) If you were to add 3 to each data point, how many positive numbers would there be?"
   ]
  },
  {
   "cell_type": "code",
   "execution_count": 16,
   "id": "79e8399f",
   "metadata": {},
   "outputs": [
    {
     "data": {
      "text/plain": [
       "array([ 7, 13, 15, 26,  1,  2,  3,  3,  3, -3,  6, -4])"
      ]
     },
     "execution_count": 16,
     "metadata": {},
     "output_type": "execute_result"
    }
   ],
   "source": [
    "#1st method:-\n",
    "# add 3 to given array\n",
    "add=a+3\n",
    "add"
   ]
  },
  {
   "cell_type": "code",
   "execution_count": 17,
   "id": "cfd79d41",
   "metadata": {},
   "outputs": [
    {
     "data": {
      "text/plain": [
       "10"
      ]
     },
     "execution_count": 17,
     "metadata": {},
     "output_type": "execute_result"
    }
   ],
   "source": [
    "np.sum(add>0)"
   ]
  },
  {
   "cell_type": "code",
   "execution_count": 18,
   "id": "c0ce5c55",
   "metadata": {},
   "outputs": [
    {
     "data": {
      "text/plain": [
       "10"
      ]
     },
     "execution_count": 18,
     "metadata": {},
     "output_type": "execute_result"
    }
   ],
   "source": [
    "#2nd method:-\n",
    "((a+3)>0).sum()"
   ]
  },
  {
   "cell_type": "code",
   "execution_count": 19,
   "id": "2f2b80b5",
   "metadata": {},
   "outputs": [
    {
     "data": {
      "text/plain": [
       "array([ 7, 13, 15, 26,  1,  2,  3,  3,  3,  6])"
      ]
     },
     "execution_count": 19,
     "metadata": {},
     "output_type": "execute_result"
    }
   ],
   "source": [
    "#3rd method:-\n",
    "(a+3)[(a+3)>0]"
   ]
  },
  {
   "cell_type": "code",
   "execution_count": 20,
   "id": "1c375adf",
   "metadata": {},
   "outputs": [
    {
     "data": {
      "text/plain": [
       "10"
      ]
     },
     "execution_count": 20,
     "metadata": {},
     "output_type": "execute_result"
    }
   ],
   "source": [
    "len((a+3)[(a+3)>0])"
   ]
  },
  {
   "cell_type": "markdown",
   "id": "d1c8de5c",
   "metadata": {},
   "source": [
    "## Q5) If you squared each number, what would the new mean and standard deviation be?\n"
   ]
  },
  {
   "cell_type": "code",
   "execution_count": 21,
   "id": "4406b935",
   "metadata": {},
   "outputs": [
    {
     "data": {
      "text/plain": [
       "array([ 16, 100, 144, 529,   4,   1,   0,   0,   0,  36,   9,  49])"
      ]
     },
     "execution_count": 21,
     "metadata": {},
     "output_type": "execute_result"
    }
   ],
   "source": [
    "squared=a**2\n",
    "squared"
   ]
  },
  {
   "cell_type": "code",
   "execution_count": 22,
   "id": "26fd534a",
   "metadata": {},
   "outputs": [
    {
     "data": {
      "text/plain": [
       "74.0"
      ]
     },
     "execution_count": 22,
     "metadata": {},
     "output_type": "execute_result"
    }
   ],
   "source": [
    "# by using function\n",
    "np.mean(squared)"
   ]
  },
  {
   "cell_type": "code",
   "execution_count": 23,
   "id": "0c960cd8",
   "metadata": {},
   "outputs": [
    {
     "data": {
      "text/plain": [
       "74.0"
      ]
     },
     "execution_count": 23,
     "metadata": {},
     "output_type": "execute_result"
    }
   ],
   "source": [
    "# by using method\n",
    "squared.mean()"
   ]
  },
  {
   "cell_type": "code",
   "execution_count": 24,
   "id": "2d818be5",
   "metadata": {},
   "outputs": [
    {
     "data": {
      "text/plain": [
       "144.0243035046516"
      ]
     },
     "execution_count": 24,
     "metadata": {},
     "output_type": "execute_result"
    }
   ],
   "source": [
    "# using function\n",
    "np.std(squared)"
   ]
  },
  {
   "cell_type": "code",
   "execution_count": 25,
   "id": "95886163",
   "metadata": {},
   "outputs": [
    {
     "data": {
      "text/plain": [
       "144.0243035046516"
      ]
     },
     "execution_count": 25,
     "metadata": {},
     "output_type": "execute_result"
    }
   ],
   "source": [
    "# by using method\n",
    "squared.std()"
   ]
  },
  {
   "cell_type": "markdown",
   "id": "4e15117d",
   "metadata": {},
   "source": [
    "## Q6) \n",
    "\n",
    "A common statistical operation on a dataset is centering. \n",
    "\n",
    "This means to adjust the data such that the mean of the data is 0. \n",
    "\n",
    "This is done by subtracting the mean from each data point. Center the data set. \n",
    "\n",
    "See this link for more on centering."
   ]
  },
  {
   "cell_type": "code",
   "execution_count": 26,
   "id": "58760bdd",
   "metadata": {},
   "outputs": [
    {
     "data": {
      "text/plain": [
       "3.0"
      ]
     },
     "execution_count": 26,
     "metadata": {},
     "output_type": "execute_result"
    }
   ],
   "source": [
    "a.mean()"
   ]
  },
  {
   "cell_type": "code",
   "execution_count": 27,
   "id": "e2ff725d",
   "metadata": {},
   "outputs": [
    {
     "data": {
      "text/plain": [
       "3.0"
      ]
     },
     "execution_count": 27,
     "metadata": {},
     "output_type": "execute_result"
    }
   ],
   "source": [
    "mean_a=a.mean()\n",
    "mean_a"
   ]
  },
  {
   "cell_type": "code",
   "execution_count": 28,
   "id": "93efa975",
   "metadata": {},
   "outputs": [
    {
     "data": {
      "text/plain": [
       "array([  1,   7,   9,  20,  -5,  -4,  -3,  -3,  -3,  -9,   0, -10])"
      ]
     },
     "execution_count": 28,
     "metadata": {},
     "output_type": "execute_result"
    }
   ],
   "source": [
    "new_a=a-3\n",
    "new_a"
   ]
  },
  {
   "cell_type": "code",
   "execution_count": 29,
   "id": "9a6dc8eb",
   "metadata": {},
   "outputs": [
    {
     "data": {
      "text/plain": [
       "0.0"
      ]
     },
     "execution_count": 29,
     "metadata": {},
     "output_type": "execute_result"
    }
   ],
   "source": [
    "new_mean=new_a.mean()\n",
    "new_mean"
   ]
  },
  {
   "cell_type": "markdown",
   "id": "f66caa36",
   "metadata": {},
   "source": [
    "## Q7) Calculate the z-score for each data point. Recall that the z-score is given by:\n",
    "\n",
    "                    Z=(x−μ)/σ\n",
    "                    \n",
    "                    #latex in markdown\n",
    "                    \n"
   ]
  },
  {
   "cell_type": "code",
   "execution_count": 30,
   "id": "dced30ba",
   "metadata": {},
   "outputs": [
    {
     "data": {
      "text/plain": [
       "3.0"
      ]
     },
     "execution_count": 30,
     "metadata": {},
     "output_type": "execute_result"
    }
   ],
   "source": [
    "mean_a=a.mean()\n",
    "mean_a"
   ]
  },
  {
   "cell_type": "code",
   "execution_count": 31,
   "id": "683b928a",
   "metadata": {},
   "outputs": [
    {
     "data": {
      "text/plain": [
       "8.06225774829855"
      ]
     },
     "execution_count": 31,
     "metadata": {},
     "output_type": "execute_result"
    }
   ],
   "source": [
    "std_a=a.std()\n",
    "std_a"
   ]
  },
  {
   "cell_type": "code",
   "execution_count": 32,
   "id": "7a35da52",
   "metadata": {},
   "outputs": [
    {
     "data": {
      "text/plain": [
       "array([ 0.12403473,  0.86824314,  1.11631261,  2.48069469, -0.62017367,\n",
       "       -0.49613894, -0.3721042 , -0.3721042 , -0.3721042 , -1.11631261,\n",
       "        0.        , -1.24034735])"
      ]
     },
     "execution_count": 32,
     "metadata": {},
     "output_type": "execute_result"
    }
   ],
   "source": [
    "z=(a-mean_a)/std_a\n",
    "z"
   ]
  },
  {
   "cell_type": "markdown",
   "id": "6e38c732",
   "metadata": {},
   "source": [
    "## Q8) Copy the setup and exercise directions from More Numpy Practice into your numpy_exercises.py and add your solutions.\n",
    "\n",
    "\n",
    "More Numpy Pracitce has link (click there)"
   ]
  },
  {
   "cell_type": "markdown",
   "id": "5aa90dc2",
   "metadata": {},
   "source": [
    "## Q8) Setup 1: Life w/o numpy to life with numpy\n",
    "\n",
    "Setup 1\n",
    "a = [1, 2, 3, 4, 5, 6, 7, 8, 9, 10]\n",
    "\n",
    "Use python's built in functionality/operators to determine the following:\n",
    "\n",
    "Exercise 1 - Make a variable called sum_of_a to hold the sum of all the numbers in above list\n",
    "\n",
    "Exercise 2 - Make a variable named min_of_a to hold the minimum of all the numbers in the above list\n",
    "\n",
    "Exercise 3 - Make a variable named max_of_a to hold the max number of all the numbers in the above list\n",
    "\n",
    "Exercise 4 - Make a variable named mean_of_a to hold the average of all the numbers in the above list\n",
    "\n",
    "Exercise 5 - Make a variable named product_of_a to hold the product of multiplying all the numbers in the above list together\n",
    "\n",
    "Exercise 6 - Make a variable named squares_of_a. It should hold each number in a squared like [1, 4, 9, 16, 25...]\n",
    "\n",
    "Exercise 7 - Make a variable named odds_in_a. It should hold only the odd numbers\n",
    "\n",
    "Exercise 8 - Make a variable named evens_in_a. It should hold only the evens.\n"
   ]
  },
  {
   "cell_type": "code",
   "execution_count": 33,
   "id": "0ba92019",
   "metadata": {},
   "outputs": [],
   "source": [
    "\n",
    "a = [1, 2, 3, 4, 5, 6, 7, 8, 9, 10]"
   ]
  },
  {
   "cell_type": "code",
   "execution_count": 34,
   "id": "9c8d97b6",
   "metadata": {},
   "outputs": [
    {
     "data": {
      "text/plain": [
       "55"
      ]
     },
     "execution_count": 34,
     "metadata": {},
     "output_type": "execute_result"
    }
   ],
   "source": [
    "\n",
    "sum_of_a=sum(a)\n",
    "sum_of_a"
   ]
  },
  {
   "cell_type": "code",
   "execution_count": 35,
   "id": "f4708a8e",
   "metadata": {},
   "outputs": [
    {
     "data": {
      "text/plain": [
       "1"
      ]
     },
     "execution_count": 35,
     "metadata": {},
     "output_type": "execute_result"
    }
   ],
   "source": [
    "min_of_a=min(a)\n",
    "min_of_a"
   ]
  },
  {
   "cell_type": "code",
   "execution_count": 36,
   "id": "9ee70adc",
   "metadata": {},
   "outputs": [
    {
     "data": {
      "text/plain": [
       "10"
      ]
     },
     "execution_count": 36,
     "metadata": {},
     "output_type": "execute_result"
    }
   ],
   "source": [
    "max_of_a=max(a)\n",
    "max_of_a"
   ]
  },
  {
   "cell_type": "code",
   "execution_count": 37,
   "id": "8c5bf625",
   "metadata": {},
   "outputs": [
    {
     "data": {
      "text/plain": [
       "5.5"
      ]
     },
     "execution_count": 37,
     "metadata": {},
     "output_type": "execute_result"
    }
   ],
   "source": [
    "mean_of_a=sum_of_a/len(a)\n",
    "mean_of_a"
   ]
  },
  {
   "cell_type": "code",
   "execution_count": 38,
   "id": "745ef01f",
   "metadata": {},
   "outputs": [
    {
     "name": "stdout",
     "output_type": "stream",
     "text": [
      "product of all the numbers in the list a:-- 3628800\n"
     ]
    }
   ],
   "source": [
    "product_of_a=1\n",
    "for x in a:\n",
    "    product_of_a *=x\n",
    "print(\"product of all the numbers in the list a:--\",product_of_a)\n",
    "    "
   ]
  },
  {
   "cell_type": "code",
   "execution_count": 39,
   "id": "92b50047",
   "metadata": {},
   "outputs": [
    {
     "data": {
      "text/plain": [
       "[1, 4, 9, 16, 25, 36, 49, 64, 81, 100]"
      ]
     },
     "execution_count": 39,
     "metadata": {},
     "output_type": "execute_result"
    }
   ],
   "source": [
    "squares_of_a=[x**2 for x in a]\n",
    "squares_of_a"
   ]
  },
  {
   "cell_type": "code",
   "execution_count": 40,
   "id": "da553d5f",
   "metadata": {},
   "outputs": [
    {
     "name": "stdout",
     "output_type": "stream",
     "text": [
      "squares_of_a= [1, 4, 9, 16, 25, 36, 49, 64, 81, 100]\n"
     ]
    }
   ],
   "source": [
    "# another way:\n",
    "\n",
    "squares_of_a=[]\n",
    "for x in a:\n",
    "    squares_of_a.append(x**2)\n",
    "print(\"squares_of_a=\",squares_of_a)"
   ]
  },
  {
   "cell_type": "code",
   "execution_count": 41,
   "id": "3131edc7",
   "metadata": {},
   "outputs": [
    {
     "data": {
      "text/plain": [
       "[1, 3, 5, 7, 9]"
      ]
     },
     "execution_count": 41,
     "metadata": {},
     "output_type": "execute_result"
    }
   ],
   "source": [
    "odd_in_a=[]\n",
    "for x in a:\n",
    "    if x%2==1:\n",
    "        odd_in_a.append(x)\n",
    "odd_in_a"
   ]
  },
  {
   "cell_type": "code",
   "execution_count": 42,
   "id": "71486c49",
   "metadata": {},
   "outputs": [
    {
     "data": {
      "text/plain": [
       "[2, 4, 6, 8, 10]"
      ]
     },
     "execution_count": 42,
     "metadata": {},
     "output_type": "execute_result"
    }
   ],
   "source": [
    "even_in_a=[]\n",
    "for x in a:\n",
    "    if x%2==0:\n",
    "        even_in_a.append(x)\n",
    "even_in_a"
   ]
  },
  {
   "cell_type": "markdown",
   "id": "8f5fbd80",
   "metadata": {},
   "source": [
    "## Q8-setup2\n",
    "\n",
    "- What about life in two dimensions? \n",
    "\n",
    "- A list of lists is matrix, a table, a spreadsheet, a chessboard...\n",
    "\n",
    "## Setup 2: Consider what it would take to find the sum, min, max, average, sum, product, and list of squares for this list of two lists.\n",
    "\n",
    "            b = [[3, 4, 5],[6, 7, 8]]\n",
    "            \n",
    "\n",
    "Exercise 1 - refactor the following to use numpy. \n",
    "Use sum_of_b as the variable. \n",
    "Hint, you'll first need to make sure that the \"b\" variable is a numpy array\n",
    "\n",
    "sum_of_b = 0 \n",
    "for row in b: \n",
    "    sum_of_b += sum(row)\n",
    "\n",
    "\n",
    "Exercise 2 - refactor the following to use numpy.\n",
    "min_of_b = min(b[0]) if min(b[0]) <= min(b[1]) else min(b[1])\n",
    "\n",
    "\n",
    "Exercise 3 - refactor the following maximum calculation to find the answer with numpy.\n",
    "max_of_b = max(b[0]) if max(b[0]) >= max(b[1]) else max(b[1])\n",
    "\n",
    "\n",
    "Exercise 4 - refactor the following using numpy to find the mean of b\n",
    "mean_of_b = (sum(b[0]) + sum(b[1])) / (len(b[0]) + len(b[1]))\n",
    "\n",
    "\n",
    "Exercise 5 - refactor the following to use numpy for calculating the product of all numbers multiplied together.\n",
    "product_of_b = 1 for row in b: for number in row: product_of_b *= number\n",
    "\n",
    "\n",
    "Exercise 6 - refactor the following to use numpy to find the list of squares\n",
    "squares_of_b = [] for row in b: for number in row: squares_of_b.append(number**2)\n",
    "\n",
    "\n",
    "Exercise 7 - refactor using numpy to determine the odds_in_b\n",
    "odds_in_b = [] for row in b: for number in row: if(number % 2 != 0): odds_in_b.append(number)\n",
    "\n",
    "\n",
    "Exercise 8 - refactor the following to use numpy to filter only the even numbers\n",
    "evens_in_b = [] for row in b: for number in row: if(number % 2 == 0): evens_in_b.append(number)\n",
    "\n",
    "\n",
    "Exercise 9 - print out the shape of the array b.\n",
    "\n",
    "\n",
    "Exercise 10 - transpose the array b.\n",
    "\n",
    "\n",
    "Exercise 11 - reshape the array b to be a single list of 6 numbers. (1 x 6)\n",
    "\n",
    "\n",
    "Exercise 12 - reshape the array b to be a list of 6 lists, each containing only 1 number (6 x 1)\n",
    "\n"
   ]
  },
  {
   "cell_type": "code",
   "execution_count": 43,
   "id": "4b28a42f",
   "metadata": {},
   "outputs": [],
   "source": [
    "b = [[3, 4, 5],[6, 7, 8]]"
   ]
  },
  {
   "cell_type": "code",
   "execution_count": 44,
   "id": "45fb2158",
   "metadata": {},
   "outputs": [],
   "source": [
    "import numpy as np"
   ]
  },
  {
   "cell_type": "code",
   "execution_count": 45,
   "id": "d2ac1918",
   "metadata": {},
   "outputs": [
    {
     "data": {
      "text/plain": [
       "array([[3, 4, 5],\n",
       "       [6, 7, 8]])"
      ]
     },
     "execution_count": 45,
     "metadata": {},
     "output_type": "execute_result"
    }
   ],
   "source": [
    "# converting b into Numpy Array:-\n",
    "b=np.array(b)\n",
    "b"
   ]
  },
  {
   "cell_type": "markdown",
   "id": "5559600d",
   "metadata": {},
   "source": [
    "## Q8-setup2-Ex1\n",
    "\n",
    "Exercise 1 - refactor the following to use numpy. \n",
    "\n",
    "Use sum_of_b as the variable. \n",
    "\n",
    "Hint, you'll first need to make sure that the \"b\" variable is a numpy array\n",
    "\n",
    "sum_of_b = 0 \n",
    "\n",
    "for row in b: \n",
    "\n",
    "    sum_of_b += sum(row)\n",
    "    \n",
    "    \n"
   ]
  },
  {
   "cell_type": "code",
   "execution_count": 46,
   "id": "9f04a421",
   "metadata": {},
   "outputs": [
    {
     "data": {
      "text/plain": [
       "33"
      ]
     },
     "execution_count": 46,
     "metadata": {},
     "output_type": "execute_result"
    }
   ],
   "source": [
    "# refactor =rewrite\n",
    "\n",
    "# 1st way (by using numpy function)\n",
    "sum_of_b=np.sum(b)\n",
    "sum_of_b"
   ]
  },
  {
   "cell_type": "code",
   "execution_count": 47,
   "id": "8873b412",
   "metadata": {},
   "outputs": [
    {
     "data": {
      "text/plain": [
       "33"
      ]
     },
     "execution_count": 47,
     "metadata": {},
     "output_type": "execute_result"
    }
   ],
   "source": [
    "# another way( by using numpy object method):-\n",
    "\n",
    "sum_of_b=b.sum()\n",
    "sum_of_b"
   ]
  },
  {
   "cell_type": "markdown",
   "id": "cfa1ba88",
   "metadata": {},
   "source": [
    "## Q8-setup2-Ex2\n",
    "refactor the following to use numpy.\n",
    "\n",
    "min_of_b = min(b[0]) if min(b[0]) <= min(b[1]) else min(b[1])\n"
   ]
  },
  {
   "cell_type": "code",
   "execution_count": 48,
   "id": "ee8849f1",
   "metadata": {},
   "outputs": [
    {
     "data": {
      "text/plain": [
       "3"
      ]
     },
     "execution_count": 48,
     "metadata": {},
     "output_type": "execute_result"
    }
   ],
   "source": [
    "# by using method:\n",
    "min_of_b=b.min()\n",
    "min_of_b"
   ]
  },
  {
   "cell_type": "code",
   "execution_count": 49,
   "id": "4da67f5e",
   "metadata": {},
   "outputs": [
    {
     "data": {
      "text/plain": [
       "3"
      ]
     },
     "execution_count": 49,
     "metadata": {},
     "output_type": "execute_result"
    }
   ],
   "source": [
    "# by numpy function\n",
    "\n",
    "min_of_b=np.min(b)\n",
    "min_of_b"
   ]
  },
  {
   "cell_type": "markdown",
   "id": "2cc55a10",
   "metadata": {},
   "source": [
    "## Q8-setup2-Ex3\n",
    "refactor the following maximum calculation to find the answer with numpy.\n",
    "\n",
    "max_of_b = max(b[0]) if max(b[0]) >= max(b[1]) else max(b[1])\n"
   ]
  },
  {
   "cell_type": "code",
   "execution_count": 50,
   "id": "e09c0c58",
   "metadata": {},
   "outputs": [
    {
     "data": {
      "text/plain": [
       "8"
      ]
     },
     "execution_count": 50,
     "metadata": {},
     "output_type": "execute_result"
    }
   ],
   "source": [
    "max_of_b=np.max(b)\n",
    "max_of_b"
   ]
  },
  {
   "cell_type": "markdown",
   "id": "9ea7f9eb",
   "metadata": {},
   "source": [
    "## Q8-setup2-Ex4\n",
    "refactor the following using numpy to find the mean of b\n",
    "\n",
    "mean_of_b = (sum(b[0]) + sum(b[1])) / (len(b[0]) + len(b[1]))\n"
   ]
  },
  {
   "cell_type": "code",
   "execution_count": 51,
   "id": "62eec84c",
   "metadata": {},
   "outputs": [
    {
     "data": {
      "text/plain": [
       "5.5"
      ]
     },
     "execution_count": 51,
     "metadata": {},
     "output_type": "execute_result"
    }
   ],
   "source": [
    "mean_of_b=np.mean(b)\n",
    "mean_of_b"
   ]
  },
  {
   "cell_type": "markdown",
   "id": "a8c6f3dd",
   "metadata": {},
   "source": [
    "## Q8-setup2-Ex5\n",
    "refactor the following to use numpy for calculating the product of all numbers multiplied together.\n",
    "\n",
    "product_of_b = 1 \n",
    "\n",
    "for row in b:\n",
    "\n",
    "    for number in row:\n",
    "\n",
    "        product_of_b *= number\n"
   ]
  },
  {
   "cell_type": "code",
   "execution_count": 52,
   "id": "df7c3833",
   "metadata": {},
   "outputs": [
    {
     "data": {
      "text/plain": [
       "20160"
      ]
     },
     "execution_count": 52,
     "metadata": {},
     "output_type": "execute_result"
    }
   ],
   "source": [
    "product_of_b=np.prod(b)\n",
    "product_of_b"
   ]
  },
  {
   "cell_type": "markdown",
   "id": "bd6cfeb4",
   "metadata": {},
   "source": [
    "## Q8-setup2-Ex6\n",
    "refactor the following to use numpy to find the list of squares\n",
    "\n",
    "squares_of_b = [] for row in b: for number in row: squares_of_b.append(number**2)\n"
   ]
  },
  {
   "cell_type": "code",
   "execution_count": 53,
   "id": "280f2c3e",
   "metadata": {
    "scrolled": true
   },
   "outputs": [
    {
     "data": {
      "text/plain": [
       "array([[ 9, 16, 25],\n",
       "       [36, 49, 64]])"
      ]
     },
     "execution_count": 53,
     "metadata": {},
     "output_type": "execute_result"
    }
   ],
   "source": [
    "np.square(b)"
   ]
  },
  {
   "cell_type": "markdown",
   "id": "6fea35e4",
   "metadata": {},
   "source": [
    "## Q8-setup2-Ex7\n",
    "refactor using numpy to determine the odds_in_b\n",
    "\n",
    "odds_in_b =[]\n",
    "\n",
    "for row in b: \n",
    "\n",
    "    for number in row: \n",
    "\n",
    "        if(number % 2 != 0): \n",
    "            \n",
    "            odds_in_b.append(number)\n"
   ]
  },
  {
   "cell_type": "code",
   "execution_count": 54,
   "id": "2a9391be",
   "metadata": {},
   "outputs": [
    {
     "data": {
      "text/plain": [
       "array([3, 5, 7])"
      ]
     },
     "execution_count": 54,
     "metadata": {},
     "output_type": "execute_result"
    }
   ],
   "source": [
    "b[b%2==1]"
   ]
  },
  {
   "cell_type": "markdown",
   "id": "b5094a7e",
   "metadata": {},
   "source": [
    "## Q8-setup2-Ex8\n",
    "refactor the following to use numpy to filter only the even numbers\n",
    "\n",
    "evens_in_b = [] \n",
    "\n",
    "for row in b: \n",
    "\n",
    "    for number in row: \n",
    "\n",
    "        if(number % 2 == 0): \n",
    "\n",
    "            evens_in_b.append(number)\n"
   ]
  },
  {
   "cell_type": "code",
   "execution_count": 55,
   "id": "3649f5d1",
   "metadata": {},
   "outputs": [
    {
     "data": {
      "text/plain": [
       "array([4, 6, 8])"
      ]
     },
     "execution_count": 55,
     "metadata": {},
     "output_type": "execute_result"
    }
   ],
   "source": [
    "b[b%2==0]"
   ]
  },
  {
   "cell_type": "markdown",
   "id": "b3c205e7",
   "metadata": {},
   "source": [
    "## Q8-setup2-Ex9\n",
    "\n",
    "print out the shape of the array b."
   ]
  },
  {
   "cell_type": "code",
   "execution_count": 56,
   "id": "9c9f0da7",
   "metadata": {},
   "outputs": [
    {
     "data": {
      "text/plain": [
       "array([[3, 4, 5],\n",
       "       [6, 7, 8]])"
      ]
     },
     "execution_count": 56,
     "metadata": {},
     "output_type": "execute_result"
    }
   ],
   "source": [
    "b"
   ]
  },
  {
   "cell_type": "markdown",
   "id": "5db5004a",
   "metadata": {},
   "source": [
    "## Q8-setup2-Ex10\n",
    "\n",
    "transpose the array b."
   ]
  },
  {
   "cell_type": "code",
   "execution_count": 57,
   "id": "b2940286",
   "metadata": {},
   "outputs": [
    {
     "data": {
      "text/plain": [
       "array([[3, 6],\n",
       "       [4, 7],\n",
       "       [5, 8]])"
      ]
     },
     "execution_count": 57,
     "metadata": {},
     "output_type": "execute_result"
    }
   ],
   "source": [
    "np.transpose(b) # numpy function"
   ]
  },
  {
   "cell_type": "markdown",
   "id": "0ab028e9",
   "metadata": {},
   "source": [
    "## Q8-setup2-Ex11\n",
    "\n",
    "reshape the array b to be a single list of 6 numbers. (1 x 6)"
   ]
  },
  {
   "cell_type": "code",
   "execution_count": 58,
   "id": "2f269af4",
   "metadata": {},
   "outputs": [
    {
     "data": {
      "text/plain": [
       "array([[3, 4, 5],\n",
       "       [6, 7, 8]])"
      ]
     },
     "execution_count": 58,
     "metadata": {},
     "output_type": "execute_result"
    }
   ],
   "source": [
    "b"
   ]
  },
  {
   "cell_type": "code",
   "execution_count": 59,
   "id": "7b4c0ef8",
   "metadata": {},
   "outputs": [
    {
     "data": {
      "text/plain": [
       "array([[3, 4, 5, 6, 7, 8]])"
      ]
     },
     "execution_count": 59,
     "metadata": {},
     "output_type": "execute_result"
    }
   ],
   "source": [
    "np.reshape(b,(1,6))"
   ]
  },
  {
   "cell_type": "markdown",
   "id": "ac774fe4",
   "metadata": {},
   "source": [
    "## Q8-setup2-Ex12\n",
    "reshape the array b to be a list of 6 lists, each containing only 1 \n",
    "\n",
    "number (6 x 1)\n"
   ]
  },
  {
   "cell_type": "code",
   "execution_count": 60,
   "id": "b78dac8d",
   "metadata": {},
   "outputs": [
    {
     "data": {
      "text/plain": [
       "array([[3],\n",
       "       [4],\n",
       "       [5],\n",
       "       [6],\n",
       "       [7],\n",
       "       [8]])"
      ]
     },
     "execution_count": 60,
     "metadata": {},
     "output_type": "execute_result"
    }
   ],
   "source": [
    "np.reshape(b,(6,1))"
   ]
  },
  {
   "cell_type": "markdown",
   "id": "02ec8434",
   "metadata": {},
   "source": [
    "## Q8-setup3\n",
    "\n",
    "Setup 3\n",
    "\n",
    "c = [ [1, 2, 3], [4, 5, 6], [7, 8, 9] ]\n",
    "\n",
    "HINT, you'll first need to make sure that the \"c\" variable is a numpy array prior to using numpy array methods.\n",
    "\n"
   ]
  },
  {
   "cell_type": "code",
   "execution_count": 61,
   "id": "bac08477",
   "metadata": {},
   "outputs": [
    {
     "data": {
      "text/plain": [
       "[[1, 2, 3], [4, 5, 6], [7, 8, 9]]"
      ]
     },
     "execution_count": 61,
     "metadata": {},
     "output_type": "execute_result"
    }
   ],
   "source": [
    "c = [ [1, 2, 3], [4, 5, 6], [7, 8, 9] ]\n",
    "c"
   ]
  },
  {
   "cell_type": "code",
   "execution_count": 62,
   "id": "b8f44b2f",
   "metadata": {},
   "outputs": [
    {
     "data": {
      "text/plain": [
       "array([[1, 2, 3],\n",
       "       [4, 5, 6],\n",
       "       [7, 8, 9]])"
      ]
     },
     "execution_count": 62,
     "metadata": {},
     "output_type": "execute_result"
    }
   ],
   "source": [
    "c=np.array(c)\n",
    "c"
   ]
  },
  {
   "cell_type": "markdown",
   "id": "56214bf0",
   "metadata": {},
   "source": [
    "## Q8-setup3-Ex1\n",
    "Find the min, max, sum, and product of c."
   ]
  },
  {
   "cell_type": "code",
   "execution_count": 63,
   "id": "a2ae65f2",
   "metadata": {},
   "outputs": [
    {
     "data": {
      "text/plain": [
       "(1, 9, 45, 362880)"
      ]
     },
     "execution_count": 63,
     "metadata": {},
     "output_type": "execute_result"
    }
   ],
   "source": [
    "c.min(), c.max(), c.sum(), c.prod()\n"
   ]
  },
  {
   "cell_type": "markdown",
   "id": "5052587f",
   "metadata": {},
   "source": [
    "## Q8-setup3-Ex2\n",
    "Determine the standard deviation of c."
   ]
  },
  {
   "cell_type": "code",
   "execution_count": 64,
   "id": "5cd4228a",
   "metadata": {},
   "outputs": [
    {
     "data": {
      "text/plain": [
       "2.581988897471611"
      ]
     },
     "execution_count": 64,
     "metadata": {},
     "output_type": "execute_result"
    }
   ],
   "source": [
    "c.std()"
   ]
  },
  {
   "cell_type": "markdown",
   "id": "b2d5cdb7",
   "metadata": {},
   "source": [
    "## Q8-setup3-Ex3\n",
    "Determine the variance of c."
   ]
  },
  {
   "cell_type": "code",
   "execution_count": 65,
   "id": "4fc185d8",
   "metadata": {},
   "outputs": [
    {
     "data": {
      "text/plain": [
       "6.666666666666667"
      ]
     },
     "execution_count": 65,
     "metadata": {},
     "output_type": "execute_result"
    }
   ],
   "source": [
    "c.var()"
   ]
  },
  {
   "cell_type": "markdown",
   "id": "dc50e60e",
   "metadata": {},
   "source": [
    "## Q8-setup3-Ex4\n",
    "Print out the shape of the array c"
   ]
  },
  {
   "cell_type": "code",
   "execution_count": 66,
   "id": "f865ad4a",
   "metadata": {},
   "outputs": [
    {
     "data": {
      "text/plain": [
       "(3, 3)"
      ]
     },
     "execution_count": 66,
     "metadata": {},
     "output_type": "execute_result"
    }
   ],
   "source": [
    "c.shape # attribute of object"
   ]
  },
  {
   "cell_type": "markdown",
   "id": "ba47c176",
   "metadata": {},
   "source": [
    "## Q8-setup3-Ex5\n",
    "Transpose c and print out transposed result."
   ]
  },
  {
   "cell_type": "code",
   "execution_count": 67,
   "id": "9d0c5856",
   "metadata": {},
   "outputs": [
    {
     "data": {
      "text/plain": [
       "array([[1, 2, 3],\n",
       "       [4, 5, 6],\n",
       "       [7, 8, 9]])"
      ]
     },
     "execution_count": 67,
     "metadata": {},
     "output_type": "execute_result"
    }
   ],
   "source": [
    "c"
   ]
  },
  {
   "cell_type": "code",
   "execution_count": 68,
   "id": "6c3209fe",
   "metadata": {},
   "outputs": [
    {
     "data": {
      "text/plain": [
       "array([[1, 4, 7],\n",
       "       [2, 5, 8],\n",
       "       [3, 6, 9]])"
      ]
     },
     "execution_count": 68,
     "metadata": {},
     "output_type": "execute_result"
    }
   ],
   "source": [
    "c.T"
   ]
  },
  {
   "cell_type": "markdown",
   "id": "cea15a56",
   "metadata": {},
   "source": [
    "## Q8-setup3-Ex6\n",
    "Get the dot product of the array c with c."
   ]
  },
  {
   "cell_type": "code",
   "execution_count": 69,
   "id": "8bc196e6",
   "metadata": {},
   "outputs": [
    {
     "data": {
      "text/plain": [
       "array([[ 1,  4,  9],\n",
       "       [16, 25, 36],\n",
       "       [49, 64, 81]])"
      ]
     },
     "execution_count": 69,
     "metadata": {},
     "output_type": "execute_result"
    }
   ],
   "source": [
    "c*c # not a dot product"
   ]
  },
  {
   "cell_type": "code",
   "execution_count": 70,
   "id": "b151f55e",
   "metadata": {},
   "outputs": [
    {
     "data": {
      "text/plain": [
       "array([[ 30,  36,  42],\n",
       "       [ 66,  81,  96],\n",
       "       [102, 126, 150]])"
      ]
     },
     "execution_count": 70,
     "metadata": {},
     "output_type": "execute_result"
    }
   ],
   "source": [
    "np.dot(c,c)"
   ]
  },
  {
   "cell_type": "markdown",
   "id": "45e72e44",
   "metadata": {},
   "source": [
    "## Q8-setup3-Ex7\n",
    "Write the code necessary to sum up the result of c times c transposed. \n",
    "\n",
    "Answer should be 261"
   ]
  },
  {
   "cell_type": "code",
   "execution_count": 71,
   "id": "416f0523",
   "metadata": {},
   "outputs": [
    {
     "data": {
      "text/plain": [
       "array([[ 1,  8, 21],\n",
       "       [ 8, 25, 48],\n",
       "       [21, 48, 81]])"
      ]
     },
     "execution_count": 71,
     "metadata": {},
     "output_type": "execute_result"
    }
   ],
   "source": [
    "c.T*c"
   ]
  },
  {
   "cell_type": "code",
   "execution_count": 72,
   "id": "e736bb21",
   "metadata": {},
   "outputs": [
    {
     "data": {
      "text/plain": [
       "261"
      ]
     },
     "execution_count": 72,
     "metadata": {},
     "output_type": "execute_result"
    }
   ],
   "source": [
    "(c.T*c).sum()"
   ]
  },
  {
   "cell_type": "markdown",
   "id": "504c4506",
   "metadata": {},
   "source": [
    "## Q8-setup3-Ex8\n",
    "Write the code necessary to determine the product of c times c transposed. \n",
    "\n",
    "Answer should be 131681894400."
   ]
  },
  {
   "cell_type": "code",
   "execution_count": 73,
   "id": "d3599762",
   "metadata": {},
   "outputs": [
    {
     "data": {
      "text/plain": [
       "131681894400"
      ]
     },
     "execution_count": 73,
     "metadata": {},
     "output_type": "execute_result"
    }
   ],
   "source": [
    "(c.T*c).prod()"
   ]
  },
  {
   "cell_type": "markdown",
   "id": "e20915ea",
   "metadata": {},
   "source": [
    "## Q8-Setup 4\n",
    "d = [ [90, 30, 45, 0, 120, 180], [45, -90, -30, 270, 90, 0], [60, 45, -45, 90, -45, 180] ]\n",
    "\n",
    "Exercise 1 - Find the sine of all the numbers in d\n",
    "\n",
    "Exercise 2 - Find the cosine of all the numbers in d\n",
    "\n",
    "Exercise 3 - Find the tangent of all the numbers in d\n",
    "\n",
    "Exercise 4 - Find all the negative numbers in d\n",
    "\n",
    "Exercise 5 - Find all the positive numbers in d\n",
    "\n",
    "Exercise 6 - Return an array of only the unique numbers in d.\n",
    "\n",
    "Exercise 7 - Determine how many unique numbers there are in d.\n",
    "\n",
    "Exercise 8 - Print out the shape of d.\n",
    "\n",
    "Exercise 9 - Transpose and then print out the shape of d.\n",
    "\n",
    "Exercise 10 - Reshape d into an array of 9 x 2"
   ]
  },
  {
   "cell_type": "code",
   "execution_count": 74,
   "id": "86f1be37",
   "metadata": {},
   "outputs": [
    {
     "data": {
      "text/plain": [
       "[[90, 30, 45, 0, 120, 180],\n",
       " [45, -90, -30, 270, 90, 0],\n",
       " [60, 45, -45, 90, -45, 180]]"
      ]
     },
     "execution_count": 74,
     "metadata": {},
     "output_type": "execute_result"
    }
   ],
   "source": [
    "d = [ [90, 30, 45, 0, 120, 180], [45, -90, -30, 270, 90, 0], [60, 45, -45, 90, -45, 180] ]\n",
    "d"
   ]
  },
  {
   "cell_type": "code",
   "execution_count": 75,
   "id": "d1feb626",
   "metadata": {},
   "outputs": [
    {
     "data": {
      "text/plain": [
       "array([[ 90,  30,  45,   0, 120, 180],\n",
       "       [ 45, -90, -30, 270,  90,   0],\n",
       "       [ 60,  45, -45,  90, -45, 180]])"
      ]
     },
     "execution_count": 75,
     "metadata": {},
     "output_type": "execute_result"
    }
   ],
   "source": [
    "d=np.array(d)\n",
    "d"
   ]
  },
  {
   "cell_type": "code",
   "execution_count": 76,
   "id": "f06db122",
   "metadata": {},
   "outputs": [
    {
     "data": {
      "text/plain": [
       "array([[ 0.89399666, -0.98803162,  0.85090352,  0.        ,  0.58061118,\n",
       "        -0.80115264],\n",
       "       [ 0.85090352, -0.89399666,  0.98803162, -0.17604595,  0.89399666,\n",
       "         0.        ],\n",
       "       [-0.30481062,  0.85090352, -0.85090352,  0.89399666, -0.85090352,\n",
       "        -0.80115264]])"
      ]
     },
     "execution_count": 76,
     "metadata": {},
     "output_type": "execute_result"
    }
   ],
   "source": [
    "# Example 1\n",
    "np.sin(d)"
   ]
  },
  {
   "cell_type": "code",
   "execution_count": 77,
   "id": "474f5d3d",
   "metadata": {},
   "outputs": [
    {
     "data": {
      "text/plain": [
       "array([[-0.44807362,  0.15425145,  0.52532199,  1.        ,  0.81418097,\n",
       "        -0.59846007],\n",
       "       [ 0.52532199, -0.44807362,  0.15425145,  0.98438195, -0.44807362,\n",
       "         1.        ],\n",
       "       [-0.95241298,  0.52532199,  0.52532199, -0.44807362,  0.52532199,\n",
       "        -0.59846007]])"
      ]
     },
     "execution_count": 77,
     "metadata": {},
     "output_type": "execute_result"
    }
   ],
   "source": [
    "# Example 2\n",
    "np.cos(d)"
   ]
  },
  {
   "cell_type": "code",
   "execution_count": 78,
   "id": "8e16da3b",
   "metadata": {},
   "outputs": [
    {
     "data": {
      "text/plain": [
       "array([[-1.99520041, -6.4053312 ,  1.61977519,  0.        ,  0.71312301,\n",
       "         1.33869021],\n",
       "       [ 1.61977519,  1.99520041,  6.4053312 , -0.17883906, -1.99520041,\n",
       "         0.        ],\n",
       "       [ 0.32004039,  1.61977519, -1.61977519, -1.99520041, -1.61977519,\n",
       "         1.33869021]])"
      ]
     },
     "execution_count": 78,
     "metadata": {},
     "output_type": "execute_result"
    }
   ],
   "source": [
    "# Example 3\n",
    "np.tan(d)"
   ]
  },
  {
   "cell_type": "code",
   "execution_count": 79,
   "id": "79e3e096",
   "metadata": {},
   "outputs": [
    {
     "data": {
      "text/plain": [
       "array([[ 90,  30,  45,   0, 120, 180],\n",
       "       [ 45, -90, -30, 270,  90,   0],\n",
       "       [ 60,  45, -45,  90, -45, 180]])"
      ]
     },
     "execution_count": 79,
     "metadata": {},
     "output_type": "execute_result"
    }
   ],
   "source": [
    "# Example 4\n",
    "d\n"
   ]
  },
  {
   "cell_type": "code",
   "execution_count": 80,
   "id": "49109be9",
   "metadata": {},
   "outputs": [
    {
     "data": {
      "text/plain": [
       "array([-90, -30, -45, -45])"
      ]
     },
     "execution_count": 80,
     "metadata": {},
     "output_type": "execute_result"
    }
   ],
   "source": [
    "d[d<0]"
   ]
  },
  {
   "cell_type": "code",
   "execution_count": 81,
   "id": "0ac9a7c4",
   "metadata": {},
   "outputs": [
    {
     "data": {
      "text/plain": [
       "array([[ True,  True,  True, False,  True,  True],\n",
       "       [ True, False, False,  True,  True, False],\n",
       "       [ True,  True, False,  True, False,  True]])"
      ]
     },
     "execution_count": 81,
     "metadata": {},
     "output_type": "execute_result"
    }
   ],
   "source": [
    "# Example 5\n",
    "mask=d>0\n",
    "mask"
   ]
  },
  {
   "cell_type": "code",
   "execution_count": 82,
   "id": "dd12dd5b",
   "metadata": {},
   "outputs": [
    {
     "data": {
      "text/plain": [
       "array([ 90,  30,  45, 120, 180,  45, 270,  90,  60,  45,  90, 180])"
      ]
     },
     "execution_count": 82,
     "metadata": {},
     "output_type": "execute_result"
    }
   ],
   "source": [
    "d[mask]"
   ]
  },
  {
   "cell_type": "code",
   "execution_count": 83,
   "id": "1db313c5",
   "metadata": {},
   "outputs": [
    {
     "data": {
      "text/plain": [
       "array([-90, -45, -30,   0,  30,  45,  60,  90, 120, 180, 270])"
      ]
     },
     "execution_count": 83,
     "metadata": {},
     "output_type": "execute_result"
    }
   ],
   "source": [
    "# Example 6\n",
    "np.unique(d)"
   ]
  },
  {
   "cell_type": "code",
   "execution_count": 84,
   "id": "e1650870",
   "metadata": {},
   "outputs": [
    {
     "data": {
      "text/plain": [
       "10"
      ]
     },
     "execution_count": 84,
     "metadata": {},
     "output_type": "execute_result"
    }
   ],
   "source": [
    "#Example 7\n",
    "np.count_nonzero(np.unique(d))   #dont use this (it does not include 0)"
   ]
  },
  {
   "cell_type": "code",
   "execution_count": 85,
   "id": "5db7f342",
   "metadata": {},
   "outputs": [
    {
     "data": {
      "text/plain": [
       "11"
      ]
     },
     "execution_count": 85,
     "metadata": {},
     "output_type": "execute_result"
    }
   ],
   "source": [
    "len(np.unique(d))"
   ]
  },
  {
   "cell_type": "code",
   "execution_count": 86,
   "id": "ad509f2f",
   "metadata": {},
   "outputs": [
    {
     "data": {
      "text/plain": [
       "array([[ 90,  30,  45,   0, 120, 180],\n",
       "       [ 45, -90, -30, 270,  90,   0],\n",
       "       [ 60,  45, -45,  90, -45, 180]])"
      ]
     },
     "execution_count": 86,
     "metadata": {},
     "output_type": "execute_result"
    }
   ],
   "source": [
    "# Example 8\n",
    "\n",
    "d"
   ]
  },
  {
   "cell_type": "code",
   "execution_count": 87,
   "id": "e871023d",
   "metadata": {},
   "outputs": [
    {
     "data": {
      "text/plain": [
       "(3, 6)"
      ]
     },
     "execution_count": 87,
     "metadata": {},
     "output_type": "execute_result"
    }
   ],
   "source": [
    "d.shape"
   ]
  },
  {
   "cell_type": "code",
   "execution_count": 88,
   "id": "914691b7",
   "metadata": {},
   "outputs": [
    {
     "data": {
      "text/plain": [
       "array([[ 90,  45,  60],\n",
       "       [ 30, -90,  45],\n",
       "       [ 45, -30, -45],\n",
       "       [  0, 270,  90],\n",
       "       [120,  90, -45],\n",
       "       [180,   0, 180]])"
      ]
     },
     "execution_count": 88,
     "metadata": {},
     "output_type": "execute_result"
    }
   ],
   "source": [
    "# Example 9\n",
    "d.T"
   ]
  },
  {
   "cell_type": "code",
   "execution_count": 89,
   "id": "064f1857",
   "metadata": {},
   "outputs": [
    {
     "data": {
      "text/plain": [
       "(6, 3)"
      ]
     },
     "execution_count": 89,
     "metadata": {},
     "output_type": "execute_result"
    }
   ],
   "source": [
    "d.T.shape"
   ]
  },
  {
   "cell_type": "code",
   "execution_count": 90,
   "id": "c08666a9",
   "metadata": {},
   "outputs": [
    {
     "data": {
      "text/plain": [
       "array([[ 90,  30],\n",
       "       [ 45,   0],\n",
       "       [120, 180],\n",
       "       [ 45, -90],\n",
       "       [-30, 270],\n",
       "       [ 90,   0],\n",
       "       [ 60,  45],\n",
       "       [-45,  90],\n",
       "       [-45, 180]])"
      ]
     },
     "execution_count": 90,
     "metadata": {},
     "output_type": "execute_result"
    }
   ],
   "source": [
    "# Example 10\n",
    "np.reshape(d,(9,2))"
   ]
  },
  {
   "cell_type": "code",
   "execution_count": null,
   "id": "46c80842",
   "metadata": {},
   "outputs": [],
   "source": []
  }
 ],
 "metadata": {
  "kernelspec": {
   "display_name": "Python 3 (ipykernel)",
   "language": "python",
   "name": "python3"
  },
  "language_info": {
   "codemirror_mode": {
    "name": "ipython",
    "version": 3
   },
   "file_extension": ".py",
   "mimetype": "text/x-python",
   "name": "python",
   "nbconvert_exporter": "python",
   "pygments_lexer": "ipython3",
   "version": "3.11.5"
  }
 },
 "nbformat": 4,
 "nbformat_minor": 5
}
