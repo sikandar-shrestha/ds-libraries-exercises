{
 "cells": [
  {
   "cell_type": "markdown",
   "id": "08c01ad8",
   "metadata": {},
   "source": [
    "# Exercises Part I\n",
    "\n",
    "In your ds-libraries-exercises repo, make a file named pandas_series.py or pandas_series.ipynb for the following exercises.\n",
    "\n",
    "Use pandas to create a Series named fruits from the following list:\n",
    "\n",
    "[\"kiwi\", \"mango\", \"strawberry\", \"pineapple\", \"gala apple\", \"honeycrisp apple\", \"tomato\", \"watermelon\", \"honeydew\", \"kiwi\", \"kiwi\", \"kiwi\", \"mango\", \"blueberry\", \"blackberry\", \"gooseberry\", \"papaya\"]\n",
    "\n",
    "## Use Series attributes and methods to explore your fruits Series."
   ]
  },
  {
   "cell_type": "code",
   "execution_count": 1,
   "id": "0a08f7e0",
   "metadata": {},
   "outputs": [],
   "source": [
    "import pandas as pd"
   ]
  },
  {
   "cell_type": "code",
   "execution_count": 2,
   "id": "88bde673",
   "metadata": {},
   "outputs": [],
   "source": [
    "fruits=pd.Series([\"kiwi\", \"mango\", \"strawberry\", \"pineapple\", \"gala apple\", \"honeycrisp apple\", \"tomato\", \"watermelon\", \"honeydew\", \"kiwi\", \"kiwi\", \"kiwi\", \"mango\", \"blueberry\", \"blackberry\", \"gooseberry\", \"papaya\"]\n",
    "\n",
    ")"
   ]
  },
  {
   "cell_type": "code",
   "execution_count": 3,
   "id": "d20e6c3d",
   "metadata": {},
   "outputs": [
    {
     "data": {
      "text/plain": [
       "0                 kiwi\n",
       "1                mango\n",
       "2           strawberry\n",
       "3            pineapple\n",
       "4           gala apple\n",
       "5     honeycrisp apple\n",
       "6               tomato\n",
       "7           watermelon\n",
       "8             honeydew\n",
       "9                 kiwi\n",
       "10                kiwi\n",
       "11                kiwi\n",
       "12               mango\n",
       "13           blueberry\n",
       "14          blackberry\n",
       "15          gooseberry\n",
       "16              papaya\n",
       "dtype: object"
      ]
     },
     "execution_count": 3,
     "metadata": {},
     "output_type": "execute_result"
    }
   ],
   "source": [
    "fruits"
   ]
  },
  {
   "cell_type": "code",
   "execution_count": 4,
   "id": "4b27b7d6",
   "metadata": {},
   "outputs": [
    {
     "data": {
      "text/plain": [
       "17"
      ]
     },
     "execution_count": 4,
     "metadata": {},
     "output_type": "execute_result"
    }
   ],
   "source": [
    "#Q1) Determine the number of elements in fruits.\n",
    "fruits.size"
   ]
  },
  {
   "cell_type": "code",
   "execution_count": 5,
   "id": "809e8228",
   "metadata": {},
   "outputs": [
    {
     "data": {
      "text/plain": [
       "(17,)"
      ]
     },
     "execution_count": 5,
     "metadata": {},
     "output_type": "execute_result"
    }
   ],
   "source": [
    "# 2nd way:\n",
    "fruits.shape"
   ]
  },
  {
   "cell_type": "code",
   "execution_count": 6,
   "id": "f98964f8",
   "metadata": {},
   "outputs": [
    {
     "data": {
      "text/plain": [
       "RangeIndex(start=0, stop=17, step=1)"
      ]
     },
     "execution_count": 6,
     "metadata": {},
     "output_type": "execute_result"
    }
   ],
   "source": [
    "#Q2) Output only the index from fruits.\n",
    "fruits.index\n"
   ]
  },
  {
   "cell_type": "code",
   "execution_count": 7,
   "id": "e6a171b4",
   "metadata": {},
   "outputs": [
    {
     "data": {
      "text/plain": [
       "[0, 1, 2, 3, 4, 5, 6, 7, 8, 9, 10, 11, 12, 13, 14, 15, 16]"
      ]
     },
     "execution_count": 7,
     "metadata": {},
     "output_type": "execute_result"
    }
   ],
   "source": [
    "list(fruits.index)"
   ]
  },
  {
   "cell_type": "code",
   "execution_count": 8,
   "id": "0e00c3b7",
   "metadata": {},
   "outputs": [
    {
     "data": {
      "text/plain": [
       "array(['kiwi', 'mango', 'strawberry', 'pineapple', 'gala apple',\n",
       "       'honeycrisp apple', 'tomato', 'watermelon', 'honeydew', 'kiwi',\n",
       "       'kiwi', 'kiwi', 'mango', 'blueberry', 'blackberry', 'gooseberry',\n",
       "       'papaya'], dtype=object)"
      ]
     },
     "execution_count": 8,
     "metadata": {},
     "output_type": "execute_result"
    }
   ],
   "source": [
    "#Q3) Output only the values from fruits.\n",
    "fruits.values"
   ]
  },
  {
   "cell_type": "code",
   "execution_count": 9,
   "id": "d53fac15",
   "metadata": {},
   "outputs": [
    {
     "data": {
      "text/plain": [
       "dtype('O')"
      ]
     },
     "execution_count": 9,
     "metadata": {},
     "output_type": "execute_result"
    }
   ],
   "source": [
    "#Q4) Confirm the data type of the values in fruits.\n",
    "fruits.dtype   # object datatype indicating this is a series of strings"
   ]
  },
  {
   "cell_type": "code",
   "execution_count": 10,
   "id": "8d600254",
   "metadata": {},
   "outputs": [
    {
     "data": {
      "text/plain": [
       "dtype('float64')"
      ]
     },
     "execution_count": 10,
     "metadata": {},
     "output_type": "execute_result"
    }
   ],
   "source": [
    "# testing datatype for ints\n",
    "test=pd.Series([1.5,2,4,9,10])\n",
    "test.dtype"
   ]
  },
  {
   "cell_type": "code",
   "execution_count": 11,
   "id": "fa8aa9f8",
   "metadata": {
    "scrolled": true
   },
   "outputs": [
    {
     "data": {
      "text/plain": [
       "0          kiwi\n",
       "1         mango\n",
       "2    strawberry\n",
       "3     pineapple\n",
       "4    gala apple\n",
       "dtype: object"
      ]
     },
     "execution_count": 11,
     "metadata": {},
     "output_type": "execute_result"
    }
   ],
   "source": [
    "#Q5) Output only the first five values from fruits. \n",
    "# Output the last three values. \n",
    "# Output two random values from fruits.\n",
    "\n",
    "fruits.head() # pandas series methods"
   ]
  },
  {
   "cell_type": "code",
   "execution_count": 12,
   "id": "c1f504fb",
   "metadata": {},
   "outputs": [
    {
     "data": {
      "text/plain": [
       "12         mango\n",
       "13     blueberry\n",
       "14    blackberry\n",
       "15    gooseberry\n",
       "16        papaya\n",
       "dtype: object"
      ]
     },
     "execution_count": 12,
     "metadata": {},
     "output_type": "execute_result"
    }
   ],
   "source": [
    "fruits.tail()"
   ]
  },
  {
   "cell_type": "code",
   "execution_count": 13,
   "id": "ce987bad",
   "metadata": {},
   "outputs": [
    {
     "data": {
      "text/plain": [
       "9    kiwi\n",
       "dtype: object"
      ]
     },
     "execution_count": 13,
     "metadata": {},
     "output_type": "execute_result"
    }
   ],
   "source": [
    "fruits.sample()"
   ]
  },
  {
   "cell_type": "code",
   "execution_count": 14,
   "id": "f6b67c0b",
   "metadata": {},
   "outputs": [
    {
     "name": "stdout",
     "output_type": "stream",
     "text": [
      "0          kiwi\n",
      "1         mango\n",
      "2    strawberry\n",
      "3     pineapple\n",
      "4    gala apple\n",
      "dtype: object\n",
      "\n",
      "14    blackberry\n",
      "15    gooseberry\n",
      "16        papaya\n",
      "dtype: object\n",
      "\n",
      "0    kiwi\n",
      "9    kiwi\n",
      "dtype: object\n"
     ]
    }
   ],
   "source": [
    "# combined way:\n",
    "print(fruits.head())\n",
    "print()\n",
    "print(fruits.tail(3))\n",
    "print()\n",
    "print(fruits.sample(2))"
   ]
  },
  {
   "cell_type": "code",
   "execution_count": 15,
   "id": "63dba1c6",
   "metadata": {},
   "outputs": [
    {
     "data": {
      "text/plain": [
       "count       17\n",
       "unique      13\n",
       "top       kiwi\n",
       "freq         4\n",
       "dtype: object"
      ]
     },
     "execution_count": 15,
     "metadata": {},
     "output_type": "execute_result"
    }
   ],
   "source": [
    "#Q6) Run the .describe() on fruits to see what information it returns when called on a Series with string values.\n",
    "fruits.describe()"
   ]
  },
  {
   "cell_type": "code",
   "execution_count": 16,
   "id": "7a81d840",
   "metadata": {},
   "outputs": [
    {
     "data": {
      "text/plain": [
       "array(['kiwi', 'mango', 'strawberry', 'pineapple', 'gala apple',\n",
       "       'honeycrisp apple', 'tomato', 'watermelon', 'honeydew',\n",
       "       'blueberry', 'blackberry', 'gooseberry', 'papaya'], dtype=object)"
      ]
     },
     "execution_count": 16,
     "metadata": {},
     "output_type": "execute_result"
    }
   ],
   "source": [
    "#Q7) Run the code necessary to produce only the unique string values from fruits.\n",
    "fruits.unique()"
   ]
  },
  {
   "cell_type": "code",
   "execution_count": 17,
   "id": "13e0dd58",
   "metadata": {},
   "outputs": [
    {
     "data": {
      "text/plain": [
       "kiwi                4\n",
       "mango               2\n",
       "strawberry          1\n",
       "pineapple           1\n",
       "gala apple          1\n",
       "honeycrisp apple    1\n",
       "tomato              1\n",
       "watermelon          1\n",
       "honeydew            1\n",
       "blueberry           1\n",
       "blackberry          1\n",
       "gooseberry          1\n",
       "papaya              1\n",
       "Name: count, dtype: int64"
      ]
     },
     "execution_count": 17,
     "metadata": {},
     "output_type": "execute_result"
    }
   ],
   "source": [
    "#Q8) Determine how many times each unique string value occurs in fruits.\n",
    "fruits.value_counts()"
   ]
  },
  {
   "cell_type": "code",
   "execution_count": 18,
   "id": "f23718cb",
   "metadata": {},
   "outputs": [
    {
     "data": {
      "text/plain": [
       "4"
      ]
     },
     "execution_count": 18,
     "metadata": {},
     "output_type": "execute_result"
    }
   ],
   "source": [
    "#Q9) Determine the string value that occurs most frequently in fruits.\n",
    "fruits.value_counts().max()"
   ]
  },
  {
   "cell_type": "code",
   "execution_count": 19,
   "id": "26d7640b",
   "metadata": {},
   "outputs": [
    {
     "data": {
      "text/plain": [
       "kiwi    4\n",
       "Name: count, dtype: int64"
      ]
     },
     "execution_count": 19,
     "metadata": {},
     "output_type": "execute_result"
    }
   ],
   "source": [
    "# another way:\n",
    "fruits.value_counts().head(1)"
   ]
  },
  {
   "cell_type": "code",
   "execution_count": 20,
   "id": "65a763dd",
   "metadata": {},
   "outputs": [
    {
     "data": {
      "text/plain": [
       "0    kiwi\n",
       "dtype: object"
      ]
     },
     "execution_count": 20,
     "metadata": {},
     "output_type": "execute_result"
    }
   ],
   "source": [
    "# another way:\n",
    "fruits.mode()"
   ]
  },
  {
   "cell_type": "code",
   "execution_count": 21,
   "id": "4eb9003d",
   "metadata": {},
   "outputs": [
    {
     "data": {
      "text/plain": [
       "count       17\n",
       "unique      13\n",
       "top       kiwi\n",
       "freq         4\n",
       "dtype: object"
      ]
     },
     "execution_count": 21,
     "metadata": {},
     "output_type": "execute_result"
    }
   ],
   "source": [
    "fruits.describe()"
   ]
  },
  {
   "cell_type": "code",
   "execution_count": 22,
   "id": "9e9548af",
   "metadata": {},
   "outputs": [
    {
     "data": {
      "text/plain": [
       "strawberry          1\n",
       "pineapple           1\n",
       "gala apple          1\n",
       "honeycrisp apple    1\n",
       "tomato              1\n",
       "watermelon          1\n",
       "honeydew            1\n",
       "blueberry           1\n",
       "blackberry          1\n",
       "gooseberry          1\n",
       "papaya              1\n",
       "mango               2\n",
       "kiwi                4\n",
       "Name: count, dtype: int64"
      ]
     },
     "execution_count": 22,
     "metadata": {},
     "output_type": "execute_result"
    }
   ],
   "source": [
    "fruits.value_counts().sort_values()"
   ]
  },
  {
   "cell_type": "code",
   "execution_count": 23,
   "id": "9e4e80c2",
   "metadata": {},
   "outputs": [
    {
     "data": {
      "text/plain": [
       "papaya    1\n",
       "Name: count, dtype: int64"
      ]
     },
     "execution_count": 23,
     "metadata": {},
     "output_type": "execute_result"
    }
   ],
   "source": [
    "#Q10) Determine the string value that occurs least frequently in fruits.\n",
    "\n",
    "fruits.value_counts().tail(1)"
   ]
  },
  {
   "cell_type": "code",
   "execution_count": 24,
   "id": "832a50b5",
   "metadata": {},
   "outputs": [
    {
     "data": {
      "text/plain": [
       "watermelon    1\n",
       "Name: count, dtype: int64"
      ]
     },
     "execution_count": 24,
     "metadata": {},
     "output_type": "execute_result"
    }
   ],
   "source": [
    "# another way\n",
    "# sorted string values in a alphabetical order after determining many had a single count\n",
    "fruits.sort_values().value_counts().nsmallest(n=1,keep='last')"
   ]
  },
  {
   "cell_type": "markdown",
   "id": "60071499",
   "metadata": {},
   "source": [
    "# Exercises Part II\n",
    "\n",
    "## Explore more attributes and methods while you continue to work with the fruits Series.\n",
    "\n"
   ]
  },
  {
   "cell_type": "code",
   "execution_count": 25,
   "id": "09cc8ca8",
   "metadata": {},
   "outputs": [
    {
     "data": {
      "text/plain": [
       "0                 Kiwi\n",
       "1                Mango\n",
       "2           Strawberry\n",
       "3            Pineapple\n",
       "4           Gala apple\n",
       "5     Honeycrisp apple\n",
       "6               Tomato\n",
       "7           Watermelon\n",
       "8             Honeydew\n",
       "9                 Kiwi\n",
       "10                Kiwi\n",
       "11                Kiwi\n",
       "12               Mango\n",
       "13           Blueberry\n",
       "14          Blackberry\n",
       "15          Gooseberry\n",
       "16              Papaya\n",
       "dtype: object"
      ]
     },
     "execution_count": 25,
     "metadata": {},
     "output_type": "execute_result"
    }
   ],
   "source": [
    "#Q1) Capitalize all the string values in fruits.\n",
    "fruits.str.capitalize()"
   ]
  },
  {
   "cell_type": "code",
   "execution_count": 26,
   "id": "5f6e8fde",
   "metadata": {},
   "outputs": [
    {
     "data": {
      "text/plain": [
       "0     0\n",
       "1     1\n",
       "2     1\n",
       "3     1\n",
       "4     3\n",
       "5     1\n",
       "6     1\n",
       "7     1\n",
       "8     0\n",
       "9     0\n",
       "10    0\n",
       "11    0\n",
       "12    1\n",
       "13    0\n",
       "14    1\n",
       "15    0\n",
       "16    3\n",
       "dtype: int64"
      ]
     },
     "execution_count": 26,
     "metadata": {},
     "output_type": "execute_result"
    }
   ],
   "source": [
    "#Q2) Count the letter \"a\" in all the string values (use string vectorization).\n",
    "\n",
    "fruits.str.count('a')\n"
   ]
  },
  {
   "cell_type": "code",
   "execution_count": 27,
   "id": "7a73e117",
   "metadata": {},
   "outputs": [
    {
     "name": "stdout",
     "output_type": "stream",
     "text": [
      "kiwi ==> count of a: 0\n",
      "mango ==> count of a: 1\n",
      "strawberry ==> count of a: 1\n",
      "pineapple ==> count of a: 1\n",
      "gala apple ==> count of a: 3\n",
      "honeycrisp apple ==> count of a: 1\n",
      "tomato ==> count of a: 1\n",
      "watermelon ==> count of a: 1\n",
      "honeydew ==> count of a: 0\n",
      "kiwi ==> count of a: 0\n",
      "kiwi ==> count of a: 0\n",
      "kiwi ==> count of a: 0\n",
      "mango ==> count of a: 1\n",
      "blueberry ==> count of a: 0\n",
      "blackberry ==> count of a: 1\n",
      "gooseberry ==> count of a: 0\n",
      "papaya ==> count of a: 3\n"
     ]
    }
   ],
   "source": [
    "# with a for loop\n",
    "for fruit in fruits:\n",
    "    # using string vectorization\n",
    "    cnt = fruit.count('a')\n",
    "    print(f'{fruit} ==> count of a: {cnt}')"
   ]
  },
  {
   "cell_type": "code",
   "execution_count": 28,
   "id": "e7ed6ffa",
   "metadata": {},
   "outputs": [
    {
     "name": "stdout",
     "output_type": "stream",
     "text": [
      "Number of vowels in each string value in 'fruits':\n",
      "0     2\n",
      "1     2\n",
      "2     2\n",
      "3     4\n",
      "4     4\n",
      "5     5\n",
      "6     3\n",
      "7     4\n",
      "8     3\n",
      "9     2\n",
      "10    2\n",
      "11    2\n",
      "12    2\n",
      "13    3\n",
      "14    2\n",
      "15    4\n",
      "16    3\n",
      "dtype: int64\n"
     ]
    }
   ],
   "source": [
    "#Q3) Output the number of vowels in each and every string value.\n",
    "\n",
    "\n",
    "# Define a custom function to count vowels\n",
    "def count_vowels(s):\n",
    "    vowels = 'AEIOUaeiou'\n",
    "    return sum(1 for char in s if char in vowels)\n",
    "\n",
    "# Apply the custom function to each string value\n",
    "vowel_counts = fruits.apply(count_vowels)\n",
    "\n",
    "# Print the counts\n",
    "print(\"Number of vowels in each string value in 'fruits':\")\n",
    "print(vowel_counts)\n"
   ]
  },
  {
   "cell_type": "code",
   "execution_count": 29,
   "id": "ef51095f",
   "metadata": {},
   "outputs": [
    {
     "data": {
      "text/plain": [
       "0     2\n",
       "1     2\n",
       "2     2\n",
       "3     4\n",
       "4     4\n",
       "5     5\n",
       "6     3\n",
       "7     4\n",
       "8     3\n",
       "9     2\n",
       "10    2\n",
       "11    2\n",
       "12    2\n",
       "13    3\n",
       "14    2\n",
       "15    4\n",
       "16    3\n",
       "dtype: int64"
      ]
     },
     "execution_count": 29,
     "metadata": {},
     "output_type": "execute_result"
    }
   ],
   "source": [
    "# another way (short way):-\n",
    "\n",
    "fruits.str.count('a|e|i|o|u')"
   ]
  },
  {
   "cell_type": "code",
   "execution_count": 30,
   "id": "0f155c00",
   "metadata": {},
   "outputs": [
    {
     "data": {
      "text/plain": [
       "5    honeycrisp apple\n",
       "dtype: object"
      ]
     },
     "execution_count": 30,
     "metadata": {},
     "output_type": "execute_result"
    }
   ],
   "source": [
    "#Q4) Write the code to get the longest string value from fruits.\n",
    "wqwqsqz/.\n",
    "\n",
    "fruits[fruits.str.len()==max(fruits.str.len())]"
   ]
  },
  {
   "cell_type": "code",
   "execution_count": 33,
   "id": "2784b251",
   "metadata": {},
   "outputs": [
    {
     "data": {
      "text/plain": [
       "'honeycrisp apple'"
      ]
     },
     "execution_count": 33,
     "metadata": {},
     "output_type": "execute_result"
    }
   ],
   "source": [
    "# using the key keyword argument in max()\n",
    "max(fruits,key=len)"
   ]
  },
  {
   "cell_type": "code",
   "execution_count": null,
   "id": "26392290",
   "metadata": {},
   "outputs": [],
   "source": [
    "#Q5) Write the code to get the string values with 5 or more letters in the name.\n",
    "\n",
    "\n",
    "fruits[fruits.str.len()>=5]"
   ]
  },
  {
   "cell_type": "code",
   "execution_count": null,
   "id": "8237df5a",
   "metadata": {},
   "outputs": [],
   "source": [
    "#Q6) Find the fruit(s) containing the letter \"o\" two or more times.\n",
    "fruits[fruits.str.lower().str.count('o') >=2]"
   ]
  },
  {
   "cell_type": "code",
   "execution_count": null,
   "id": "4edab57f",
   "metadata": {},
   "outputs": [],
   "source": [
    "#Q7) Write the code to get only the string values containing the substring \"berry\".\n",
    "\n",
    "fruits[fruits.str.contains('berry')]"
   ]
  },
  {
   "cell_type": "code",
   "execution_count": null,
   "id": "55c31588",
   "metadata": {},
   "outputs": [],
   "source": [
    "#Q8) Write the code to get only the string values containing the substring \"apple\".\n",
    "fruits[fruits.str.contains('apple')]"
   ]
  },
  {
   "cell_type": "code",
   "execution_count": null,
   "id": "adfcfea5",
   "metadata": {},
   "outputs": [],
   "source": [
    "#Q9) Which string value contains the most vowels?\n",
    "fruits[fruits.str.count('a|e|i|o|u').max()]"
   ]
  },
  {
   "cell_type": "markdown",
   "id": "ef798ce3",
   "metadata": {},
   "source": [
    "# Exercises Part III\n"
   ]
  },
  {
   "cell_type": "markdown",
   "id": "bc590f4e",
   "metadata": {},
   "source": [
    "# Exercises Part III (1st set out of 3 sets ///      1/3)\n",
    "\n",
    "Use pandas to create a Series named letters from the following string. \n",
    "\n",
    "The easiest way to make this string into a Pandas series is to use list to convert each individual letter into a single string on a basic Python list.\n",
    "\n",
    "'hnvidduckkqxwymbimkccexbkmqygkxoyndmcxnwqarhyffsjpsrabtjzsypmzadfavyrnndndvswreauxovncxtwzpwejilzjrmmbbgbyxvjtewqthafnbkqplarokkyydtubbmnexoypulzwfhqvckdpqtpoppzqrmcvhhpwgjwupgzhiofohawytlsiyecuproguy'\n",
    "\n"
   ]
  },
  {
   "cell_type": "code",
   "execution_count": null,
   "id": "a6ebe8f5",
   "metadata": {},
   "outputs": [],
   "source": [
    "my_list=list('hnvidduckkqxwymbimkccexbkmqygkxoyndmcxnwqarhyffsjpsrabtjzsypmzadfavyrnndndvswreauxovncxtwzpwejilzjrmmbbgbyxvjtewqthafnbkqplarokkyydtubbmnexoypulzwfhqvckdpqtpoppzqrmcvhhpwgjwupgzhiofohawytlsiyecuproguy')\n",
    "my_list             "
   ]
  },
  {
   "cell_type": "code",
   "execution_count": null,
   "id": "e71d7cbf",
   "metadata": {},
   "outputs": [],
   "source": [
    "len(my_list)"
   ]
  },
  {
   "cell_type": "code",
   "execution_count": null,
   "id": "9c1e2370",
   "metadata": {},
   "outputs": [],
   "source": [
    "letters=pd.Series(my_list)\n",
    "letters"
   ]
  },
  {
   "cell_type": "code",
   "execution_count": null,
   "id": "40eb1de0",
   "metadata": {},
   "outputs": [],
   "source": [
    "#Q1) Which letter occurs the most frequently in the letters Series?\n",
    "letters.value_counts().head(1)"
   ]
  },
  {
   "cell_type": "code",
   "execution_count": null,
   "id": "6b6d65d9",
   "metadata": {
    "scrolled": true
   },
   "outputs": [],
   "source": [
    "#Q2) Which letter occurs the Least frequently?\n",
    "letters.value_counts().tail(1)"
   ]
  },
  {
   "cell_type": "code",
   "execution_count": null,
   "id": "e90a7240",
   "metadata": {},
   "outputs": [],
   "source": [
    "letter.str.value_counts().idxmin()"
   ]
  },
  {
   "cell_type": "code",
   "execution_count": null,
   "id": "09fd78ba",
   "metadata": {
    "scrolled": true
   },
   "outputs": [],
   "source": [
    "#Q3) How many vowels are in the Series?\n",
    "letters.str.count('a|e|i|o|u').sum()"
   ]
  },
  {
   "cell_type": "code",
   "execution_count": null,
   "id": "455d9870",
   "metadata": {},
   "outputs": [],
   "source": [
    "letters.str.lower()"
   ]
  },
  {
   "cell_type": "code",
   "execution_count": null,
   "id": "c67a507e",
   "metadata": {},
   "outputs": [],
   "source": [
    "#Q4) How many consonants are in the Series?\n",
    "len(letters)-letters.str.count('a|e|i|o|u').sum()"
   ]
  },
  {
   "cell_type": "code",
   "execution_count": null,
   "id": "4cf873a5",
   "metadata": {},
   "outputs": [],
   "source": [
    "(~letters.str.lower().count('a|e|i|o|u')).sum()"
   ]
  },
  {
   "cell_type": "code",
   "execution_count": null,
   "id": "85ab2abd",
   "metadata": {},
   "outputs": [],
   "source": [
    "#Q5) Create a Series that has all of the same letters but uppercased.\n",
    "\n",
    "letters.str.upper()"
   ]
  },
  {
   "cell_type": "code",
   "execution_count": null,
   "id": "6a03c65f",
   "metadata": {},
   "outputs": [],
   "source": [
    "#Q6) Create a bar plot of the frequencies of the 6 most commonly occuring letters.\n",
    "\n"
   ]
  },
  {
   "cell_type": "code",
   "execution_count": null,
   "id": "dddd4921",
   "metadata": {},
   "outputs": [],
   "source": [
    "import matplotlib.pyplot as plt"
   ]
  },
  {
   "cell_type": "code",
   "execution_count": null,
   "id": "649f2d5b",
   "metadata": {},
   "outputs": [],
   "source": [
    "top_letters=letters.value_counts().head(6)\n",
    "top_letters"
   ]
  },
  {
   "cell_type": "code",
   "execution_count": null,
   "id": "8d60ecc9",
   "metadata": {},
   "outputs": [],
   "source": [
    "\n",
    "plt.figure(figsize=(8,5))\n",
    "top_letters.plot(kind='bar')\n",
    "plt.xlabel('letter')\n",
    "plt.ylabel('freq')\n",
    "plt.title('Top 6 most common letter')\n",
    "plt.show()"
   ]
  },
  {
   "cell_type": "code",
   "execution_count": null,
   "id": "414c72a0",
   "metadata": {},
   "outputs": [],
   "source": [
    "# create a bar plot\n",
    "\n",
    "sixmost=letters.value_counts().nlargest(n=6)"
   ]
  },
  {
   "cell_type": "markdown",
   "id": "2274ccfc",
   "metadata": {},
   "source": [
    "# Exercises Part III (2/3)\n",
    "Use pandas to create a Series named numbers from the following list:\n",
    "\n",
    "['$796,459.41', '$278.60', '$482,571.67', '$4,503,915.98', '$2,121,418.3', '$1,260,813.3', '$87,231.01', '$1,509,175.45', '$4,138,548.00', '$2,848,913.80', '$594,715.39', '$4,789,988.17', '$4,513,644.5', '$3,191,059.97', '$1,758,712.24', '$4,338,283.54', '$4,738,303.38', '$2,791,759.67', '$769,681.94', '$452,650.23']\n"
   ]
  },
  {
   "cell_type": "code",
   "execution_count": null,
   "id": "b5b10f37",
   "metadata": {},
   "outputs": [],
   "source": [
    "strings=['$796,459.41', '$278.60', '$482,571.67', '$4,503,915.98', '$2,121,418.3', '$1,260,813.3', '$87,231.01', '$1,509,175.45', '$4,138,548.00', '$2,848,913.80', '$594,715.39', '$4,789,988.17', '$4,513,644.5', '$3,191,059.97', '$1,758,712.24', '$4,338,283.54', '$4,738,303.38', '$2,791,759.67', '$769,681.94', '$452,650.23']\n",
    "\n",
    "strings"
   ]
  },
  {
   "cell_type": "code",
   "execution_count": null,
   "id": "2b2e7df4",
   "metadata": {
    "scrolled": true
   },
   "outputs": [],
   "source": [
    "numbers=pd.Series(strings)\n",
    "numbers"
   ]
  },
  {
   "cell_type": "code",
   "execution_count": null,
   "id": "5969d031",
   "metadata": {},
   "outputs": [],
   "source": [
    "# Q1)What is the data type of the numbers Series?\n",
    "numbers.dtype"
   ]
  },
  {
   "cell_type": "code",
   "execution_count": null,
   "id": "6615d820",
   "metadata": {},
   "outputs": [],
   "source": [
    "#Q2) How many elements are in the number Series?\n",
    "numbers.size"
   ]
  },
  {
   "cell_type": "code",
   "execution_count": null,
   "id": "1c43330b",
   "metadata": {},
   "outputs": [],
   "source": [
    "# another way\n",
    "len(numbers)"
   ]
  },
  {
   "cell_type": "code",
   "execution_count": null,
   "id": "aff6fb52",
   "metadata": {},
   "outputs": [],
   "source": [
    "# Q3) Perform the necessary manipulations by accessing Series attributes and methods to convert \n",
    "# the numbers Series to a numeric data type.\n",
    "\n",
    "numbers=numbers.str.replace('$','').str.replace(',','').astype('float')\n",
    "numbers.dtype\n",
    "\n"
   ]
  },
  {
   "cell_type": "code",
   "execution_count": null,
   "id": "cb33d03a",
   "metadata": {},
   "outputs": [],
   "source": [
    "#Q4) Run the code to discover the maximum value from the Series.\n",
    "numbers.max()"
   ]
  },
  {
   "cell_type": "code",
   "execution_count": null,
   "id": "05fa49f4",
   "metadata": {},
   "outputs": [],
   "source": [
    "# Q5) Run the code to discover the minimum value from the Series.\n",
    "numbers.min()"
   ]
  },
  {
   "cell_type": "code",
   "execution_count": null,
   "id": "4a82858c",
   "metadata": {},
   "outputs": [],
   "source": [
    "# Q6) What is the range of the values in the Series?\n",
    "print(f' RANGE of the values in the Series:       {numbers.min()} - {numbers.max()}')"
   ]
  },
  {
   "cell_type": "code",
   "execution_count": null,
   "id": "1efb57d6",
   "metadata": {},
   "outputs": [],
   "source": [
    "# Q7) Bin the data into 4 equally sized intervals or bins and output how many values fall into each bin.\n",
    "\n",
    "pd.cut(numbers,bins=4).value_counts().sort_index()"
   ]
  },
  {
   "cell_type": "code",
   "execution_count": null,
   "id": "be4fca29",
   "metadata": {},
   "outputs": [],
   "source": [
    "# Q8) Plot the binned data in a meaningful way. Be sure to include a title and axis labels.\n",
    "\n",
    "# horizontal bar plots for long named data\n",
    "'''\n",
    "after value_counts() index is equal to one of the four bins as shown above. \n",
    "We can sort our graph by these values smallest-largest\n",
    "'''\n",
    "import matplotlib.pyplot as plt\n",
    "\n",
    "pd.cut(numbers,bins=4).value_counts().sort_index().plot(kind='barh')\n",
    "plt.title('Series Composition After Binning')\n",
    "plt.xlabel('[Count]')\n",
    "plt.ylabel('[$ bins]')\n",
    "plt.show()"
   ]
  },
  {
   "cell_type": "markdown",
   "id": "90569835",
   "metadata": {},
   "source": [
    "## Exercises Part III (3/3)\n",
    "\n",
    "### Use pandas to create a Series named exam_scores from the following list:\n",
    "\n",
    "[60, 86, 75, 62, 93, 71, 60, 83, 95, 78, 65, 72, 69, 81, 96, 80, 85, 92, 82, 78]\n",
    "\n",
    "\n"
   ]
  },
  {
   "cell_type": "code",
   "execution_count": null,
   "id": "cc94100c",
   "metadata": {},
   "outputs": [],
   "source": [
    "exam_scores=pd.Series([60, 86, 75, 62, 93, 71, 60, 83, 95, 78, 65, 72, 69, 81, 96, 80, 85, 92, 82, 78])\n",
    "exam_scores"
   ]
  },
  {
   "cell_type": "code",
   "execution_count": null,
   "id": "b0d3f9ef",
   "metadata": {},
   "outputs": [],
   "source": [
    "## Q1) How many elements are in the exam_scores Series?\n",
    "exam_scores.size\n"
   ]
  },
  {
   "cell_type": "code",
   "execution_count": null,
   "id": "44d80b04",
   "metadata": {},
   "outputs": [],
   "source": [
    "#2nd way:\n",
    "exam_scores.shape"
   ]
  },
  {
   "cell_type": "code",
   "execution_count": null,
   "id": "e2ed7dd8",
   "metadata": {},
   "outputs": [],
   "source": [
    "#3rd way\n",
    "len(exam_scores)"
   ]
  },
  {
   "cell_type": "code",
   "execution_count": null,
   "id": "fd207b0e",
   "metadata": {},
   "outputs": [],
   "source": [
    "## Q2) Run the code to discover the minimum, the maximum, the mean, and the median scores for the exam_scores Series.\n",
    "exam_scores.describe()"
   ]
  },
  {
   "cell_type": "code",
   "execution_count": null,
   "id": "90d045eb",
   "metadata": {},
   "outputs": [],
   "source": [
    "exam_scores.median()"
   ]
  },
  {
   "cell_type": "code",
   "execution_count": null,
   "id": "f5507689",
   "metadata": {},
   "outputs": [],
   "source": [
    "## Q3) Plot the Series in a meaningful way and make sure your chart has a title and axis labels.\n",
    "\n",
    "exam_scores.plot(kind='hist',edgecolor='y')\n",
    "plt.title(\"Distribution of exam scores\")\n",
    "plt.xlabel('scores')\n",
    "plt.ylabel('no. of examees')\n",
    "#plt.show()\n"
   ]
  },
  {
   "cell_type": "markdown",
   "id": "c551a11a",
   "metadata": {},
   "source": [
    " Q4) Write the code necessary to implement a curve for your exam_grades Series and save this as curved_grades. \n",
    " \n",
    "     Add the necessary points to the highest grade to make it 100, \n",
    " \n",
    "     and add the same number of points to every other score in the Series as well.\n",
    "\n",
    "\n"
   ]
  },
  {
   "cell_type": "code",
   "execution_count": null,
   "id": "375a631b",
   "metadata": {},
   "outputs": [],
   "source": [
    "# top score\n",
    "exam_scores.max()"
   ]
  },
  {
   "cell_type": "code",
   "execution_count": null,
   "id": "e422edd1",
   "metadata": {},
   "outputs": [],
   "source": [
    "pts_to_add =100 - exam_scores.max()\n",
    "pts_to_add"
   ]
  },
  {
   "cell_type": "code",
   "execution_count": null,
   "id": "fb964899",
   "metadata": {},
   "outputs": [],
   "source": [
    "print(f'original grades: \\n {exam_scores}')"
   ]
  },
  {
   "cell_type": "code",
   "execution_count": null,
   "id": "4bbd645a",
   "metadata": {},
   "outputs": [],
   "source": [
    "curved_grades=exam_scores + pts_to_add\n",
    "print(f'curved grades:\\n {curved_grades}')"
   ]
  },
  {
   "cell_type": "markdown",
   "id": "d0912242",
   "metadata": {},
   "source": [
    " Q5) Use a method to convert each of the numeric values in the curved_grades Series into a categorical value of \n",
    " \n",
    "     letter grades.\n",
    "\n",
    " For example, 86 should be a 'B' and 95 should be an 'A'. Save this as a Series named letter_grades.\n",
    "\n",
    "\n"
   ]
  },
  {
   "cell_type": "code",
   "execution_count": null,
   "id": "97f6a78f",
   "metadata": {},
   "outputs": [],
   "source": [
    "import function_exercises as f\n",
    "\n",
    "f.get_letter_grade(86)"
   ]
  },
  {
   "cell_type": "code",
   "execution_count": null,
   "id": "c58416ce",
   "metadata": {},
   "outputs": [],
   "source": [
    "letter_grades = curved_grades.apply(f.get_letter_grade)\n",
    "letter_grades"
   ]
  },
  {
   "cell_type": "code",
   "execution_count": null,
   "id": "7d815e58",
   "metadata": {},
   "outputs": [],
   "source": [
    "# 2nd way( using cut() function arguments)\n",
    "bin_edges = [0, 59, 69, 79, 89,100]\n",
    "bin_labels = ['F', 'D', 'C', 'B', 'A']\n",
    "letter_grades = pd.cut(curved_grades, bins=bin_edges, labels=bin_labels)\n",
    "letter_grades"
   ]
  },
  {
   "cell_type": "code",
   "execution_count": null,
   "id": "b6d75a93",
   "metadata": {},
   "outputs": [],
   "source": [
    "## Q6) Plot your new categorical letter_grades Series in a meaninful way and include a title and axis labels.\n",
    "\n",
    "letter_grades.value_counts().sort_index().plot.barh()\n",
    "plt.title('Curved Letter Grade Distribution')\n",
    "plt.show()\n"
   ]
  },
  {
   "cell_type": "code",
   "execution_count": null,
   "id": "b07bf3a3",
   "metadata": {},
   "outputs": [],
   "source": []
  },
  {
   "cell_type": "code",
   "execution_count": null,
   "id": "04d0f2fd",
   "metadata": {},
   "outputs": [],
   "source": []
  },
  {
   "cell_type": "code",
   "execution_count": null,
   "id": "15ad0042",
   "metadata": {},
   "outputs": [],
   "source": []
  }
 ],
 "metadata": {
  "kernelspec": {
   "display_name": "Python 3 (ipykernel)",
   "language": "python",
   "name": "python3"
  },
  "language_info": {
   "codemirror_mode": {
    "name": "ipython",
    "version": 3
   },
   "file_extension": ".py",
   "mimetype": "text/x-python",
   "name": "python",
   "nbconvert_exporter": "python",
   "pygments_lexer": "ipython3",
   "version": "3.11.5"
  }
 },
 "nbformat": 4,
 "nbformat_minor": 5
}
